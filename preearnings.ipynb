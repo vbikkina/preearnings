{
 "cells": [
  {
   "cell_type": "code",
   "execution_count": 41,
   "id": "349fac66",
   "metadata": {},
   "outputs": [
    {
     "name": "stdout",
     "output_type": "stream",
     "text": [
      "Date\n",
      "2021-08-30    424.937931\n",
      "Name: Adj Close, dtype: float64 Date\n",
      "2021-08-30    308.142438\n",
      "Name: Adj Close, dtype: float64\n",
      "Date\n",
      "2021-08-30    479.503583\n",
      "Name: Adj Close, dtype: float64 Date\n",
      "2021-08-30    299.554925\n",
      "Name: Adj Close, dtype: float64\n"
     ]
    }
   ],
   "source": [
    "import pandas as pd\n",
    "import numpy as np\n",
    "from pandas_datareader import data as wb\n",
    "import matplotlib.pyplot as plt\n",
    "from math import exp\n",
    "\n",
    "tickers = ['ZM']\n",
    "\n",
    "data = pd.DataFrame()\n",
    "\n",
    "from datetime import date\n",
    "from datetime import timedelta\n",
    "yesterday = date.today()- timedelta(days=1)\n",
    "\n",
    "\n",
    "for t in tickers:\n",
    "    \n",
    "    data[t] = wb.DataReader(t, data_source='yahoo', start='2019-1-1')['Adj Close']\n",
    "    cmp = wb.DataReader(t, data_source='yahoo', start=yesterday, end=today)['Adj Close']\n",
    "\n",
    "    \n",
    "    # plotting\n",
    "\n",
    "    #(data/data.iloc[0]*100).plot(figsize = (8,5))\n",
    "    #plt.show()\n",
    "\n",
    "    # calculate returns\n",
    "    returns = np.log(data/data.shift(1))\n",
    "\n",
    "    #mean_14\n",
    "    mean_14 = returns[t].mean()*14\n",
    "    mean_30 = returns[t].mean()*30\n",
    "\n",
    "    #std_14\n",
    "    std_14 = returns[t].std()*14**0.5\n",
    "    std_30 = returns[t].std()*30**0.5\n",
    "\n",
    "    mean_14, std_14\n",
    "\n",
    "    upper_14 = mean_14+std_14\n",
    "    lower_14 = mean_14-std_14\n",
    "\n",
    "    upper_30 = mean_30+std_30\n",
    "    lower_30 = mean_30-std_30\n",
    "\n",
    "    upper_price_14 = cmp*exp(upper_14)\n",
    "    lower_price_14 = cmp*exp(lower_14)\n",
    "\n",
    "    upper_price_14, lower_price_14\n",
    "\n",
    "    upper_price_30 = cmp*exp(upper_30)\n",
    "    lower_price_30 = cmp*exp(lower_30)\n",
    "\n",
    "    print(upper_price_14, lower_price_14)\n",
    "    print(upper_price_30, lower_price_30)\n"
   ]
  },
  {
   "cell_type": "code",
   "execution_count": null,
   "id": "f369d827",
   "metadata": {},
   "outputs": [],
   "source": []
  }
 ],
 "metadata": {
  "kernelspec": {
   "display_name": "Python 3",
   "language": "python",
   "name": "python3"
  },
  "language_info": {
   "codemirror_mode": {
    "name": "ipython",
    "version": 3
   },
   "file_extension": ".py",
   "mimetype": "text/x-python",
   "name": "python",
   "nbconvert_exporter": "python",
   "pygments_lexer": "ipython3",
   "version": "3.8.8"
  }
 },
 "nbformat": 4,
 "nbformat_minor": 5
}
