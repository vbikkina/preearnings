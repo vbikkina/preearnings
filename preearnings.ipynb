{
 "cells": [
  {
   "cell_type": "code",
   "execution_count": 5,
   "id": "d2f6a5f3",
   "metadata": {},
   "outputs": [
    {
     "data": {
      "text/plain": [
       "(13.013971056770709, 9.797432968026273)"
      ]
     },
     "execution_count": 5,
     "metadata": {},
     "output_type": "execute_result"
    }
   ],
   "source": [
    "import pandas as pd\n",
    "import numpy as np\n",
    "from pandas_datareader import data as wb\n",
    "import matplotlib.pyplot as plt\n",
    "from math import exp\n",
    "\n",
    "tickers = ['EAF']\n",
    "\n",
    "data = pd.DataFrame()\n",
    "\n",
    "\n",
    "\n",
    "for t in tickers:\n",
    "    \n",
    "    data[t] = wb.DataReader(t, data_source='yahoo', start='2019-1-1')['Adj Close']\n",
    "    \n",
    "# plotting\n",
    "\n",
    "#(data/data.iloc[0]*100).plot(figsize = (8,5))\n",
    "#plt.show()\n",
    "\n",
    "# calculate returns\n",
    "returns = np.log(data/data.shift(1))\n",
    "\n",
    "#mean_14\n",
    "mean_14 = returns['EAF'].mean()*14\n",
    "\n",
    "#std_14\n",
    "std_14 = returns['EAF'].std()*14**0.5\n",
    "\n",
    "mean_14, std_14\n",
    "\n",
    "upper = mean_14+std_14\n",
    "lower = mean_14-std_14\n",
    "\n",
    "cmp = 11.29\n",
    "\n",
    "upper_price = cmp*exp(upper)\n",
    "lower_price = cmp*exp(lower)\n",
    "\n",
    "upper_price, lower_price"
   ]
  },
  {
   "cell_type": "code",
   "execution_count": null,
   "id": "26054c7e",
   "metadata": {},
   "outputs": [],
   "source": []
  }
 ],
 "metadata": {
  "kernelspec": {
   "display_name": "Python 3",
   "language": "python",
   "name": "python3"
  },
  "language_info": {
   "codemirror_mode": {
    "name": "ipython",
    "version": 3
   },
   "file_extension": ".py",
   "mimetype": "text/x-python",
   "name": "python",
   "nbconvert_exporter": "python",
   "pygments_lexer": "ipython3",
   "version": "3.8.8"
  }
 },
 "nbformat": 4,
 "nbformat_minor": 5
}
